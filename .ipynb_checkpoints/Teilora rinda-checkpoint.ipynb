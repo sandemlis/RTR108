{
 "cells": [
  {
   "cell_type": "markdown",
   "metadata": {},
   "source": [
    "# 1. laboratorijas darba (Teilora rinad) atksiate"
   ]
  },
  {
   "cell_type": "markdown",
   "metadata": {},
   "source": [
    "## Teorija"
   ]
  },
  {
   "cell_type": "raw",
   "metadata": {},
   "source": [
    "Teilora rindas izteiksme\n",
    "\n",
    "                    500\n",
    "                   -----\n",
    "                   \\\n",
    "                    \\   (-1)^k * x^(2*k)\n",
    "cos^2(x/2)~=1/2+1/2  |\t----------------\n",
    "                    /\t     (2*k)!\n",
    "                   /\n",
    "                   -----\n",
    "                    k=0"
   ]
  },
  {
   "cell_type": "raw",
   "metadata": {},
   "source": [
    "Rekurenes reizinājums\n",
    "\n",
    "\t(-1)*x^2\n",
    "R = -------------------\t\n",
    "    \n",
    "    (2*k)*(2*k-1)\n"
   ]
  },
  {
   "cell_type": "markdown",
   "metadata": {},
   "source": [
    "## Kods"
   ]
  },
  {
   "cell_type": "code",
   "execution_count": 1,
   "metadata": {},
   "outputs": [],
   "source": [
    "from math import cos"
   ]
  },
  {
   "cell_type": "code",
   "execution_count": 2,
   "metadata": {},
   "outputs": [],
   "source": [
    "A = 100\n",
    "x = 34.0\n",
    "a = 1\n",
    "S = 0.5\n",
    "k = 0"
   ]
  },
  {
   "cell_type": "code",
   "execution_count": 3,
   "metadata": {},
   "outputs": [
    {
     "name": "stdout",
     "output_type": "stream",
     "text": [
      "Lūdzu ievadiet x vērtību (robežās no -33 līdz 33): 15\n"
     ]
    }
   ],
   "source": [
    "while((x>33.999)or(x<(-33.999))):\n",
    "    x = float(input(\"Lūdzu ievadiet x vērtību (robežās no -33 līdz 33): \"))"
   ]
  },
  {
   "cell_type": "code",
   "execution_count": 4,
   "metadata": {},
   "outputs": [
    {
     "name": "stdout",
     "output_type": "stream",
     "text": [
      "y=cos^2( 15.0 /2)= 0.12015604357058937 \n",
      "\n"
     ]
    }
   ],
   "source": [
    "y=cos(x/2)*cos(x/2)\n",
    "print(\"y=cos^2(\",x,\"/2)=\",y,\"\\n\");"
   ]
  },
  {
   "cell_type": "code",
   "execution_count": 5,
   "metadata": {},
   "outputs": [],
   "source": [
    "a=((-1)**k)*x**(2*k)\n",
    "S=S+a/2"
   ]
  },
  {
   "cell_type": "code",
   "execution_count": 6,
   "metadata": {},
   "outputs": [
    {
     "name": "stdout",
     "output_type": "stream",
     "text": [
      "99 . a =  -1.8536755831689867e-138 \n",
      "\n",
      "100 . a =  1.0479321764146282e-140 \n",
      "\n",
      "Funkcijas rezultāts aprēķinot ar Teilora rindu\n",
      "Cos^2( 15.0 /2)= 0.1201560435760788\n"
     ]
    }
   ],
   "source": [
    "while(k<A):\n",
    "    k=k+1\n",
    "    a=a*(-1)*(x**2)/((2*k)*(2*k-1))\n",
    "    S=S+(a/2)\n",
    "    if((k==(A-1))or(k==A)):print(k,\". a = \",(a/2),\"\\n\")\n",
    "    if(k==A):print(\"Funkcijas rezultāts aprēķinot ar Teilora rindu\\nCos^2(\",x,\"/2)=\",S)"
   ]
  }
 ],
 "metadata": {
  "kernelspec": {
   "display_name": "Python 3",
   "language": "python",
   "name": "python3"
  },
  "language_info": {
   "codemirror_mode": {
    "name": "ipython",
    "version": 3
   },
   "file_extension": ".py",
   "mimetype": "text/x-python",
   "name": "python",
   "nbconvert_exporter": "python",
   "pygments_lexer": "ipython3",
   "version": "3.6.9"
  }
 },
 "nbformat": 4,
 "nbformat_minor": 4
}
